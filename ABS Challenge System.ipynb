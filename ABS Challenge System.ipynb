{
 "cells": [
  {
   "cell_type": "markdown",
   "metadata": {},
   "source": [
    "ABS Challenge System: "
   ]
  },
  {
   "cell_type": "markdown",
   "metadata": {},
   "source": [
    "Background:\n",
    "On August 15, 2024, I was at my local minor league game to watch the\n",
    "St Paul Saints take on my Indianapolis Indians. In the bottom of the\n",
    "2nd with 2 out and nobody on, Seth Beer takes a close 2-2 pitch that\n",
    "home plate umpire Chris Marco calls strike 3 to end the inning. Beer\n",
    "however challenges the pitch forcing a review on the video board. After\n",
    "a quick animation the video board shows the pitch missing by just a hair\n",
    "with text saying the ball was less than a 0.5 inch from being a strike.\n",
    "\n",
    "Well that got me thinking, how close was that pitch truely from the\n",
    "strike zone. The following evening I used [toddrob99's MLB-StatsAPI](https://github.com/toddrob99/MLB-StatsAPI)\n",
    "to get the exact pitch data to determine the exact distance the pitch\n",
    "missed the zone. And to my suprise, according to the data, that pitch\n",
    "should have been called strike 3."
   ]
  }
 ],
 "metadata": {
  "language_info": {
   "name": "python"
  }
 },
 "nbformat": 4,
 "nbformat_minor": 2
}
