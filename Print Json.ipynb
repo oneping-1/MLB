{
 "cells": [
  {
   "cell_type": "code",
   "execution_count": null,
   "metadata": {},
   "outputs": [],
   "source": [
    "import statsapi\n",
    "import json\n",
    "\n",
    "data = statsapi.get('game', {'gamePk': 717432})\n",
    "\n",
    "with open('json.txt', 'w') as file:\n",
    "    file.write(json.dumps(data, indent=4))\n"
   ]
  },
  {
   "cell_type": "code",
   "execution_count": 84,
   "metadata": {},
   "outputs": [
    {
     "name": "stdout",
     "output_type": "stream",
     "text": [
      "Balls  Strikes  Outs  Runners\n",
      "0      0        0     ___        0.51\n",
      "Name: RE, dtype: float64\n"
     ]
    },
    {
     "name": "stderr",
     "output_type": "stream",
     "text": [
      "C:\\Users\\CoenE\\AppData\\Local\\Temp\\ipykernel_10104\\3568713808.py:3: PerformanceWarning: indexing past lexsort depth may impact performance.\n",
      "  print(re.loc[(0,0,0,'___'), 'RE'])\n"
     ]
    }
   ],
   "source": []
  }
 ],
 "metadata": {
  "kernelspec": {
   "display_name": "mlb",
   "language": "python",
   "name": "python3"
  },
  "language_info": {
   "codemirror_mode": {
    "name": "ipython",
    "version": 3
   },
   "file_extension": ".py",
   "mimetype": "text/x-python",
   "name": "python",
   "nbconvert_exporter": "python",
   "pygments_lexer": "ipython3",
   "version": "3.11.3"
  },
  "orig_nbformat": 4
 },
 "nbformat": 4,
 "nbformat_minor": 2
}
