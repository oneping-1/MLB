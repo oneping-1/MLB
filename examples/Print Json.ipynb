{
 "cells": [
  {
   "cell_type": "code",
   "execution_count": 2,
   "metadata": {},
   "outputs": [],
   "source": [
    "import json\n",
    "from src.statsapi_plus import get_game_dict\n",
    "\n",
    "data = get_game_dict(745560, delay_seconds=60)\n",
    "\n",
    "with open('game.json', 'w') as file:\n",
    "    file.write(json.dumps(data, indent=4))\n"
   ]
  },
  {
   "cell_type": "code",
   "execution_count": 4,
   "metadata": {},
   "outputs": [
    {
     "name": "stdout",
     "output_type": "stream",
     "text": [
      "0\n"
     ]
    }
   ],
   "source": [
    "print(len({}))"
   ]
  },
  {
   "cell_type": "code",
   "execution_count": 27,
   "metadata": {},
   "outputs": [
    {
     "name": "stdout",
     "output_type": "stream",
     "text": [
      "0.2413561347173474\n"
     ]
    }
   ],
   "source": [
    "from src.statsapi_plus import get_red288_dataframe\n",
    "\n",
    "df = get_red288_dataframe()\n",
    "\n",
    "balls = 3\n",
    "strikes = 2\n",
    "outs = 2\n",
    "is_first_base = False\n",
    "is_second_base = False\n",
    "is_third_base = False\n",
    "\n",
    "x = df.loc[\n",
    "    (df['balls'] == balls) &\n",
    "    (df['strikes'] == strikes) &\n",
    "    (df['outs'] == outs) &\n",
    "    (df['is_first_base'] == is_first_base) &\n",
    "    (df['is_second_base'] == is_second_base) &\n",
    "    (df['is_third_base'] == is_third_base)\n",
    "]['run_value']\n",
    "\n",
    "print(x.iloc[0])\n",
    "\n"
   ]
  }
 ],
 "metadata": {
  "kernelspec": {
   "display_name": "mlb",
   "language": "python",
   "name": "python3"
  },
  "language_info": {
   "codemirror_mode": {
    "name": "ipython",
    "version": 3
   },
   "file_extension": ".py",
   "mimetype": "text/x-python",
   "name": "python",
   "nbconvert_exporter": "python",
   "pygments_lexer": "ipython3",
   "version": "3.9.2"
  },
  "orig_nbformat": 4
 },
 "nbformat": 4,
 "nbformat_minor": 2
}
