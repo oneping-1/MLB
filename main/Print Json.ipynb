{
 "cells": [
  {
   "cell_type": "code",
   "execution_count": 1,
   "metadata": {},
   "outputs": [],
   "source": [
    "import json\n",
    "from get.statsapi_plus import get_game_dict\n",
    "\n",
    "data = get_game_dict(717008)\n",
    "\n",
    "with open('game.json', 'w') as file:\n",
    "    file.write(json.dumps(data, indent=4))\n"
   ]
  },
  {
   "cell_type": "code",
   "execution_count": 2,
   "metadata": {},
   "outputs": [
    {
     "name": "stdout",
     "output_type": "stream",
     "text": [
      "AL West Magic Number: 40\n"
     ]
    }
   ],
   "source": [
    "import json\n",
    "import statsapi\n",
    "\n",
    "standings_data = statsapi.get('standings', {'leagueId':103})\n",
    "\n",
    "with open('standings.json', 'w', encoding='utf-8') as file:\n",
    "    file.write(json.dumps(standings_data, indent=4))\n",
    "\n",
    "print(f\"AL West Magic Number: {standings_data['records'][2]['teamRecords'][0]['magicNumber']}\")"
   ]
  },
  {
   "cell_type": "code",
   "execution_count": 3,
   "metadata": {},
   "outputs": [],
   "source": [
    "import statsapi\n",
    "data = statsapi.get('game', {'gamePk': 717053}, force=True)"
   ]
  }
 ],
 "metadata": {
  "kernelspec": {
   "display_name": "mlb",
   "language": "python",
   "name": "python3"
  },
  "language_info": {
   "codemirror_mode": {
    "name": "ipython",
    "version": 3
   },
   "file_extension": ".py",
   "mimetype": "text/x-python",
   "name": "python",
   "nbconvert_exporter": "python",
   "pygments_lexer": "ipython3",
   "version": "3.11.3"
  },
  "orig_nbformat": 4
 },
 "nbformat": 4,
 "nbformat_minor": 2
}
