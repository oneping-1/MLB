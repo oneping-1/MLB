{
 "cells": [
  {
   "cell_type": "code",
   "execution_count": 10,
   "metadata": {},
   "outputs": [],
   "source": [
    "import json\n",
    "from get.statsapi_plus import get_game_dict\n",
    "\n",
    "data = get_game_dict(717990)\n",
    "\n",
    "with open('json.txt', 'w') as file:\n",
    "    file.write(json.dumps(data, indent=4))\n"
   ]
  },
  {
   "cell_type": "code",
   "execution_count": 8,
   "metadata": {},
   "outputs": [
    {
     "ename": "AttributeError",
     "evalue": "'int' object has no attribute 'count'",
     "output_type": "error",
     "traceback": [
      "\u001b[1;31m---------------------------------------------------------------------------\u001b[0m",
      "\u001b[1;31mAttributeError\u001b[0m                            Traceback (most recent call last)",
      "Cell \u001b[1;32mIn[8], line 4\u001b[0m\n\u001b[0;32m      1\u001b[0m \u001b[39mfrom\u001b[39;00m \u001b[39mget\u001b[39;00m\u001b[39m.\u001b[39;00m\u001b[39mrunners\u001b[39;00m \u001b[39mimport\u001b[39;00m Runners\n\u001b[0;32m      2\u001b[0m \u001b[39mfrom\u001b[39;00m \u001b[39mget\u001b[39;00m\u001b[39m.\u001b[39;00m\u001b[39mumpire\u001b[39;00m \u001b[39mimport\u001b[39;00m Umpire\n\u001b[1;32m----> 4\u001b[0m Umpire\u001b[39m.\u001b[39;49mdelta_favor_zone(\u001b[39m0\u001b[39;49m, \u001b[39m1\u001b[39;49m, \u001b[39mTrue\u001b[39;49;00m)\n",
      "File \u001b[1;32mc:\\users\\coene\\onedrive\\projects\\python\\mlb-stats\\get\\umpire.py:228\u001b[0m, in \u001b[0;36mUmpire.delta_favor_zone\u001b[1;34m(cls, pitch, runners_int, isTopInning)\u001b[0m\n\u001b[0;32m    224\u001b[0m home_delta \u001b[39m=\u001b[39m \u001b[39m0\u001b[39m\n\u001b[0;32m    226\u001b[0m correct \u001b[39m=\u001b[39m \u001b[39mTrue\u001b[39;00m\n\u001b[1;32m--> 228\u001b[0m balls \u001b[39m=\u001b[39m pitch\u001b[39m.\u001b[39;49mcount\u001b[39m.\u001b[39mballs\n\u001b[0;32m    229\u001b[0m strikes \u001b[39m=\u001b[39m pitch\u001b[39m.\u001b[39mcount\u001b[39m.\u001b[39mstrikes\n\u001b[0;32m    230\u001b[0m outs \u001b[39m=\u001b[39m pitch\u001b[39m.\u001b[39mcount\u001b[39m.\u001b[39mouts\n",
      "\u001b[1;31mAttributeError\u001b[0m: 'int' object has no attribute 'count'"
     ]
    }
   ],
   "source": [
    "from get.runners import Runners\n",
    "from get.umpire import Umpire\n",
    "\n",
    "Umpire.delta_favor_zone(0, 1, True)"
   ]
  }
 ],
 "metadata": {
  "kernelspec": {
   "display_name": "mlb",
   "language": "python",
   "name": "python3"
  },
  "language_info": {
   "codemirror_mode": {
    "name": "ipython",
    "version": 3
   },
   "file_extension": ".py",
   "mimetype": "text/x-python",
   "name": "python",
   "nbconvert_exporter": "python",
   "pygments_lexer": "ipython3",
   "version": "3.11.3"
  },
  "orig_nbformat": 4
 },
 "nbformat": 4,
 "nbformat_minor": 2
}
