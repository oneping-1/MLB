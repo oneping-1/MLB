{
 "cells": [
  {
   "cell_type": "code",
   "execution_count": 1,
   "metadata": {},
   "outputs": [],
   "source": [
    "import json\n",
    "from get.statsapi_plus import get_game_dict\n",
    "\n",
    "data = get_game_dict(716895)\n",
    "\n",
    "with open('game.json', 'w') as file:\n",
    "    file.write(json.dumps(data, indent=4))\n"
   ]
  },
  {
   "cell_type": "code",
   "execution_count": 1,
   "metadata": {},
   "outputs": [
    {
     "name": "stdout",
     "output_type": "stream",
     "text": [
      "AL West Magic Number: 36\n"
     ]
    }
   ],
   "source": [
    "import json\n",
    "import statsapi\n",
    "\n",
    "standings_data = statsapi.get('standings', {'leagueId':103})\n",
    "\n",
    "with open('standings.json', 'w', encoding='utf-8') as file:\n",
    "    file.write(json.dumps(standings_data, indent=4))\n",
    "\n",
    "print(f\"AL West Magic Number: {standings_data['records'][2]['teamRecords'][0]['magicNumber']}\")"
   ]
  },
  {
   "cell_type": "code",
   "execution_count": 2,
   "metadata": {},
   "outputs": [
    {
     "ename": "NameError",
     "evalue": "name 'games' is not defined",
     "output_type": "error",
     "traceback": [
      "\u001b[1;31m---------------------------------------------------------------------------\u001b[0m",
      "\u001b[1;31mNameError\u001b[0m                                 Traceback (most recent call last)",
      "\u001b[1;32mc:\\Users\\Coen\\OneDrive\\Projects\\Python\\MLB-Stats\\main\\Print Json.ipynb Cell 3\u001b[0m in \u001b[0;36m1\n\u001b[1;32m----> <a href='vscode-notebook-cell:/c%3A/Users/Coen/OneDrive/Projects/Python/MLB-Stats/main/Print%20Json.ipynb#W2sZmlsZQ%3D%3D?line=0'>1</a>\u001b[0m \u001b[39mprint\u001b[39m(\u001b[39mset\u001b[39m([game\u001b[39m.\u001b[39mgameData\u001b[39m.\u001b[39mstatus\u001b[39m.\u001b[39mdetailedState \u001b[39mfor\u001b[39;00m game \u001b[39min\u001b[39;00m games]))\n",
      "\u001b[1;31mNameError\u001b[0m: name 'games' is not defined"
     ]
    }
   ],
   "source": [
    "print(set([game.gameData.status.detailedState for game in games]))"
   ]
  }
 ],
 "metadata": {
  "kernelspec": {
   "display_name": "mlb",
   "language": "python",
   "name": "python3"
  },
  "language_info": {
   "codemirror_mode": {
    "name": "ipython",
    "version": 3
   },
   "file_extension": ".py",
   "mimetype": "text/x-python",
   "name": "python",
   "nbconvert_exporter": "python",
   "pygments_lexer": "ipython3",
   "version": "3.11.3"
  },
  "orig_nbformat": 4
 },
 "nbformat": 4,
 "nbformat_minor": 2
}
